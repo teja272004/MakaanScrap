{
 "cells": [
  {
   "cell_type": "markdown",
   "id": "875607e7-150c-4850-b708-01223f0c9e98",
   "metadata": {},
   "source": [
    "4 Steps to be followed in Web Scraping:\n",
    "\n",
    "--> Sending a HTTP requests to the webpage using requests module\n",
    "\n",
    "--> Fetching and parsing the data form the webpage using BeautifulSoup library\n",
    "\n",
    "--> Analysing the content of the Webpage (HTML tags) and storing in lists/dicts\n",
    "\n",
    "--> Storing the data in the tabular format (.csv / .xlsx) json format"
   ]
  },
  {
   "cell_type": "code",
   "execution_count": 1,
   "id": "00fc1131-f055-49ab-9723-166a0ddad425",
   "metadata": {},
   "outputs": [
    {
     "name": "stdout",
     "output_type": "stream",
     "text": [
      "Requirement already satisfied: beautifulsoup4 in c:\\users\\abc\\desktop\\aiworkshop\\teja\\lib\\site-packages (4.12.3)\n",
      "Requirement already satisfied: soupsieve>1.2 in c:\\users\\abc\\desktop\\aiworkshop\\teja\\lib\\site-packages (from beautifulsoup4) (2.6)\n"
     ]
    },
    {
     "name": "stderr",
     "output_type": "stream",
     "text": [
      "\n",
      "[notice] A new release of pip is available: 24.1 -> 24.2\n",
      "[notice] To update, run: python.exe -m pip install --upgrade pip\n"
     ]
    }
   ],
   "source": [
    "#Installing BeautifulSoup Library\n",
    "!pip install beautifulsoup4"
   ]
  },
  {
   "cell_type": "code",
   "execution_count": 2,
   "id": "275c339a-0ce2-41ae-9a8a-195dabe7c1fb",
   "metadata": {},
   "outputs": [],
   "source": [
    "#Importing Libraries\n",
    "import bs4\n",
    "import requests"
   ]
  },
  {
   "cell_type": "code",
   "execution_count": 3,
   "id": "31c7fe1c-ad2a-4094-aa52-94b8a05f4dee",
   "metadata": {},
   "outputs": [],
   "source": [
    "#help(bs4)#to learn more about the package and use help(), dir(),type() "
   ]
  },
  {
   "cell_type": "code",
   "execution_count": 4,
   "id": "648a0faf-7c5b-457e-b840-5747dca58ae9",
   "metadata": {},
   "outputs": [],
   "source": [
    "from bs4 import BeautifulSoup"
   ]
  },
  {
   "cell_type": "code",
   "execution_count": 5,
   "id": "e1765878-f463-4bbe-9e54-1dfce84f4768",
   "metadata": {},
   "outputs": [],
   "source": [
    "#we will use our target web page to connect and fetch the information\n",
    "url=\"https://www.makaan.com/vijayawada-residential-property/buy-property-in-vijayawada-city\""
   ]
  },
  {
   "cell_type": "code",
   "execution_count": 6,
   "id": "62bd0cfd-dfd1-4ca9-b6f1-9e4afc1a18b0",
   "metadata": {},
   "outputs": [
    {
     "data": {
      "text/plain": [
       "<Response [200]>"
      ]
     },
     "execution_count": 6,
     "metadata": {},
     "output_type": "execute_result"
    }
   ],
   "source": [
    "b=requests.get(url)\n",
    "b"
   ]
  },
  {
   "cell_type": "code",
   "execution_count": 7,
   "id": "e7934046-ac5c-48fc-9582-ce50b8748785",
   "metadata": {},
   "outputs": [
    {
     "data": {
      "text/plain": [
       "str"
      ]
     },
     "execution_count": 7,
     "metadata": {},
     "output_type": "execute_result"
    }
   ],
   "source": [
    "#we will work on single webpage to fetch the information\n",
    "type(b.text)"
   ]
  },
  {
   "cell_type": "code",
   "execution_count": 8,
   "id": "463e1ae3-2eba-4e67-af13-bd9adb1406c8",
   "metadata": {},
   "outputs": [],
   "source": [
    "#to pretify the content from the webpage we use beatiful soup"
   ]
  },
  {
   "cell_type": "code",
   "execution_count": 9,
   "id": "75149488-3b6b-4fc2-a66d-39367725d71b",
   "metadata": {},
   "outputs": [
    {
     "data": {
      "text/plain": [
       "bs4.BeautifulSoup"
      ]
     },
     "execution_count": 9,
     "metadata": {},
     "output_type": "execute_result"
    }
   ],
   "source": [
    "a=BeautifulSoup(b.text)\n",
    "type(a)"
   ]
  },
  {
   "cell_type": "code",
   "execution_count": 10,
   "id": "38e6b105-8b90-4e6f-b0f1-b469c43d4ca6",
   "metadata": {},
   "outputs": [],
   "source": [
    "#print(a.prettify())"
   ]
  },
  {
   "cell_type": "code",
   "execution_count": 11,
   "id": "af340061-4d04-4ed7-a9ff-5ad78cffc85c",
   "metadata": {},
   "outputs": [
    {
     "data": {
      "text/plain": [
       "'3 BHK Apartment in Lakshmi SerenityPenamaluru, VijayawadaSpecifications 1.08 Cr5,000 / sq ft2161 Area in sq ftReady to moveConstruction Status0 - 1 year oldNew 3 BHK Property for Sale in Penamaluru Vijayawada:A 3 bhk property is available for sale in Lakshmi infratech India Pvt Ltd Serenity, Penamaluru, Vijayawada. The house is unfurnished. It has storm water drains as well as 24 x 7 security. The project ...Developed by Lakshmi infratech India Pvt LtdMoreView Phone Connect Now'"
      ]
     },
     "execution_count": 11,
     "metadata": {},
     "output_type": "execute_result"
    }
   ],
   "source": [
    "a.find('div',{\"class\":\"infoWrap\"}).text#let us extract single property"
   ]
  },
  {
   "cell_type": "code",
   "execution_count": 12,
   "id": "5ff06cc5-9624-4440-89a4-c87f888180b1",
   "metadata": {},
   "outputs": [
    {
     "data": {
      "text/plain": [
       "' 1.08 Cr'"
      ]
     },
     "execution_count": 12,
     "metadata": {},
     "output_type": "execute_result"
    }
   ],
   "source": [
    "a.find('div',{\"data-type\":\"price-link\"}).text"
   ]
  },
  {
   "cell_type": "code",
   "execution_count": 13,
   "id": "67ace8fc-1635-4af1-9e45-c86a0badeff0",
   "metadata": {},
   "outputs": [
    {
     "data": {
      "text/plain": [
       "'2161'"
      ]
     },
     "execution_count": 13,
     "metadata": {},
     "output_type": "execute_result"
    }
   ],
   "source": [
    "a.find('td',{\"class\":\"size\"}).text.strip()"
   ]
  },
  {
   "cell_type": "code",
   "execution_count": 14,
   "id": "a09a9a3b-0ee9-44db-8813-0d9be34c7f46",
   "metadata": {},
   "outputs": [
    {
     "data": {
      "text/plain": [
       "'Penamaluru'"
      ]
     },
     "execution_count": 14,
     "metadata": {},
     "output_type": "execute_result"
    }
   ],
   "source": [
    "a.find('span',{\"itemprop\":\"addressLocality\"}).text"
   ]
  },
  {
   "cell_type": "code",
   "execution_count": 15,
   "id": "8fdaf2ea-a99e-4602-addb-8e577f396363",
   "metadata": {},
   "outputs": [
    {
     "data": {
      "text/plain": [
       "'5,000 / sq ft'"
      ]
     },
     "execution_count": 15,
     "metadata": {},
     "output_type": "execute_result"
    }
   ],
   "source": [
    "a.find('td',{\"class\":\"lbl rate\"}).text"
   ]
  },
  {
   "cell_type": "code",
   "execution_count": 16,
   "id": "2bdde69b-fe5a-450e-a676-e9619d47d88d",
   "metadata": {},
   "outputs": [
    {
     "data": {
      "text/plain": [
       "'Ready to move'"
      ]
     },
     "execution_count": 16,
     "metadata": {},
     "output_type": "execute_result"
    }
   ],
   "source": [
    "a.find('td',{\"class\":\"val\"}).text"
   ]
  },
  {
   "cell_type": "code",
   "execution_count": 17,
   "id": "e7260bd0-42df-46d9-9b48-6257834a9b7f",
   "metadata": {},
   "outputs": [
    {
     "data": {
      "text/plain": [
       "'0 - 1 year old'"
      ]
     },
     "execution_count": 17,
     "metadata": {},
     "output_type": "execute_result"
    }
   ],
   "source": [
    "a.find('li',{\"class\":\"keypoint\"}).text"
   ]
  },
  {
   "cell_type": "code",
   "execution_count": 18,
   "id": "aede0e05-04c9-4f1f-8b88-797848349bab",
   "metadata": {},
   "outputs": [
    {
     "data": {
      "text/plain": [
       "'5 Bathrooms'"
      ]
     },
     "execution_count": 18,
     "metadata": {},
     "output_type": "execute_result"
    }
   ],
   "source": [
    "a.find('li',{\"class\":\"keypoint\",\"title\":\"Bathrooms\"}).text"
   ]
  },
  {
   "cell_type": "code",
   "execution_count": 19,
   "id": "2ec61d01-c105-4595-8904-585c45bc1d38",
   "metadata": {},
   "outputs": [
    {
     "data": {
      "text/plain": [
       "'Lakshmi infratech India pvt ltd'"
      ]
     },
     "execution_count": 19,
     "metadata": {},
     "output_type": "execute_result"
    }
   ],
   "source": [
    "a.find('a',{\"class\":\"seller-name\"}).text"
   ]
  },
  {
   "cell_type": "code",
   "execution_count": 20,
   "id": "83285a19-ae4e-4a36-b1e0-45f53f13c9be",
   "metadata": {},
   "outputs": [
    {
     "data": {
      "text/plain": [
       "'BUILDER'"
      ]
     },
     "execution_count": 20,
     "metadata": {},
     "output_type": "execute_result"
    }
   ],
   "source": [
    "a.find('span',{\"class\":\"seller-type\"}).text"
   ]
  },
  {
   "cell_type": "code",
   "execution_count": 21,
   "id": "930a8f80-e3c6-41f2-b815-776d6396b5f8",
   "metadata": {},
   "outputs": [
    {
     "data": {
      "text/plain": [
       "'2 BHK Apartment in Vishwa Ayodhya Gated Community'"
      ]
     },
     "execution_count": 21,
     "metadata": {},
     "output_type": "execute_result"
    }
   ],
   "source": [
    "#Now let us the fields from entire page\n",
    "#find_all()\n",
    "g=a.find_all('div',{'class':'title-line'})\n",
    "g[1].text"
   ]
  },
  {
   "cell_type": "code",
   "execution_count": 22,
   "id": "54cbd948-d4de-471a-9a81-91ad4ec9078c",
   "metadata": {},
   "outputs": [
    {
     "name": "stdout",
     "output_type": "stream",
     "text": [
      "3 BHK Apartment in Lakshmi Serenity\n",
      "2 BHK Apartment in Vishwa Ayodhya Gated Community\n",
      "3 BHK Apartment in Lakshmi Serenity\n",
      "2 BHK Apartment in Vishwa Ayodhya Gated Community\n",
      "3 BHK Apartment in Lakshmi Serenity\n",
      "3 BHK Apartment in Vishwa Ayodhya Gated Community\n",
      "5 BHK Independent House\n",
      "5 BHK Independent House\n",
      "4 BHK Apartment in Invicon Navah\n",
      "2 BHK Apartment\n",
      "Residential Plot\n",
      "8 BHK Independent House\n",
      "3 BHK Apartment\n",
      "3 BHK Villa\n",
      "Residential Plot\n",
      "3 BHK Villa in Emerald Sri Nivasam\n",
      "Residential Plot in Greenagri Amaravati Plots\n",
      "Residential Plot in Project\n",
      "3 BHK Villa\n",
      "Residential Plot in Project\n"
     ]
    }
   ],
   "source": [
    "for  i in g:\n",
    "    print(i.text)"
   ]
  },
  {
   "cell_type": "code",
   "execution_count": 23,
   "id": "18f533c9-4207-4513-90d8-41c4f3ddcbd5",
   "metadata": {},
   "outputs": [],
   "source": [
    "#list comprehension\n",
    "#[exprsn for var in functn/collection]\n",
    "#Every list comprehension can be rewritten as a for loop but viceversa is not true\n",
    "names = [i.text for i in g]"
   ]
  },
  {
   "cell_type": "code",
   "execution_count": 24,
   "id": "a1de70c6-1eaa-44a4-9d55-4fa39c98c872",
   "metadata": {},
   "outputs": [
    {
     "data": {
      "text/plain": [
       "['3 BHK Apartment in Lakshmi Serenity',\n",
       " '2 BHK Apartment in Vishwa Ayodhya Gated Community',\n",
       " '3 BHK Apartment in Lakshmi Serenity',\n",
       " '2 BHK Apartment in Vishwa Ayodhya Gated Community',\n",
       " '3 BHK Apartment in Lakshmi Serenity',\n",
       " '3 BHK Apartment in Vishwa Ayodhya Gated Community',\n",
       " '5 BHK Independent House',\n",
       " '5 BHK Independent House',\n",
       " '4 BHK Apartment in Invicon Navah',\n",
       " '2 BHK Apartment',\n",
       " 'Residential Plot',\n",
       " '8 BHK Independent House',\n",
       " '3 BHK Apartment',\n",
       " '3 BHK Villa',\n",
       " 'Residential Plot',\n",
       " '3 BHK Villa in Emerald Sri Nivasam',\n",
       " 'Residential Plot in Greenagri Amaravati Plots',\n",
       " 'Residential Plot in Project',\n",
       " '3 BHK Villa',\n",
       " 'Residential Plot in Project']"
      ]
     },
     "execution_count": 24,
     "metadata": {},
     "output_type": "execute_result"
    }
   ],
   "source": [
    "names"
   ]
  },
  {
   "cell_type": "code",
   "execution_count": 25,
   "id": "acb3f33e-6690-47b9-9eb4-853cb2937f0e",
   "metadata": {},
   "outputs": [
    {
     "name": "stdout",
     "output_type": "stream",
     "text": [
      "['Penamaluru', 'Gannavaram', 'Penamaluru', 'Gannavaram', 'Penamaluru', 'Gannavaram', 'Ramalingeswara Nagar', 'PNT Colony', 'Kanuru', 'Gollapudi', 'Penamaluru', 'Currency Nagar', 'Gannavaram', 'Kankipadu', 'Ramavarapadu', 'Rajiv Bhargav Colony', 'Ibrahimpatnam', 'Nunna', 'Payakapuram', 'Nunna']\n"
     ]
    }
   ],
   "source": [
    "#sililar way get prices,area,location name,price per sqft\n",
    "price=a.find_all('td',{'class':'price'})\n",
    "prices=[i.text.strip() for i in price]\n",
    "\n",
    "area=a.find_all('span',{'itemprop':'addressLocality'})\n",
    "areas=[i.text.strip() for i in area]\n",
    "print(areas)"
   ]
  },
  {
   "cell_type": "code",
   "execution_count": 26,
   "id": "5df53d7a-3222-4ce5-b8c1-8876625508d0",
   "metadata": {},
   "outputs": [
    {
     "name": "stdout",
     "output_type": "stream",
     "text": [
      "['5,000 / sq ft', '2,500 / sq ft', '4,499 / sq ft', '2,500 / sq ft', '5,000 / sq ft', '2,500 / sq ft', '4,313 / sq ft', '5,000 / sq ft', '7,918 / sq ft', '4,134 / sq ft', '21,000 / sq ft', '5,384 / sq ft', '3,475 / sq ft', '4,121 / sq ft', '13,473 / sq ft', '5,501 / sq ft', '3,555 / sq ft', '3,676 / sq ft', '4,905 / sq ft', '2,555 / sq ft']\n"
     ]
    }
   ],
   "source": [
    "sqf=a.find_all('td',{'class':'lbl rate'})\n",
    "sqfs=[i.text.strip() for i in sqf]\n",
    "print(sqfs)"
   ]
  },
  {
   "cell_type": "code",
   "execution_count": 27,
   "id": "6e19df20-be4c-4621-abe9-95569fef9890",
   "metadata": {},
   "outputs": [
    {
     "data": {
      "text/plain": [
       "['1.08 Cr',\n",
       " '28 L',\n",
       " '90.51 L',\n",
       " '28 L',\n",
       " '1 Cr',\n",
       " '53 L',\n",
       " '1.1 Cr',\n",
       " '1.5 Cr',\n",
       " '2.15 Cr',\n",
       " '43 L',\n",
       " '42 L',\n",
       " '3.5 Cr',\n",
       " '75 L',\n",
       " '68 L',\n",
       " '22.5 L',\n",
       " '1.42 Cr',\n",
       " '1.11 Cr',\n",
       " '49.99 L',\n",
       " '1.3 Cr',\n",
       " '46 L']"
      ]
     },
     "execution_count": 27,
     "metadata": {},
     "output_type": "execute_result"
    }
   ],
   "source": [
    "prices"
   ]
  },
  {
   "cell_type": "code",
   "execution_count": 28,
   "id": "b46b0062-1752-44da-b145-7b4dac4867c4",
   "metadata": {},
   "outputs": [],
   "source": [
    "for i in range(len(prices)):\n",
    "    if prices[i].find('Cr')!=-1:\n",
    "        x=''\n",
    "        for j in prices[i]:\n",
    "            if j==' ':\n",
    "                break\n",
    "            if j=='.':\n",
    "                continue\n",
    "            else:\n",
    "                x+=j\n",
    "        if(len(x)==2):\n",
    "            x+='0' \n",
    "        if(len(x)==1):\n",
    "            x+='00'\n",
    "        x+=' L'\n",
    "        prices[i]=x\n",
    "        "
   ]
  },
  {
   "cell_type": "code",
   "execution_count": 29,
   "id": "baea14f0-2c85-4bff-89ca-24f813281110",
   "metadata": {},
   "outputs": [
    {
     "name": "stdout",
     "output_type": "stream",
     "text": [
      "108 L\n",
      "28 L\n",
      "90.51 L\n",
      "28 L\n",
      "100 L\n",
      "53 L\n",
      "110 L\n",
      "150 L\n",
      "215 L\n",
      "43 L\n",
      "42 L\n",
      "350 L\n",
      "75 L\n",
      "68 L\n",
      "22.5 L\n",
      "142 L\n",
      "111 L\n",
      "49.99 L\n",
      "130 L\n",
      "46 L\n"
     ]
    }
   ],
   "source": [
    "for i in prices:\n",
    "    print(i)"
   ]
  },
  {
   "cell_type": "code",
   "execution_count": 30,
   "id": "86cbe866-afd9-4f52-a44f-65e41f7f5168",
   "metadata": {},
   "outputs": [
    {
     "data": {
      "text/plain": [
       "[108.0,\n",
       " 28.0,\n",
       " 90.51,\n",
       " 28.0,\n",
       " 100.0,\n",
       " 53.0,\n",
       " 110.0,\n",
       " 150.0,\n",
       " 215.0,\n",
       " 43.0,\n",
       " 42.0,\n",
       " 350.0,\n",
       " 75.0,\n",
       " 68.0,\n",
       " 22.5,\n",
       " 142.0,\n",
       " 111.0,\n",
       " 49.99,\n",
       " 130.0,\n",
       " 46.0]"
      ]
     },
     "execution_count": 30,
     "metadata": {},
     "output_type": "execute_result"
    }
   ],
   "source": [
    "for i in range(len(prices)):\n",
    "    k = prices[i].replace(\" L\",\"\")\n",
    "    prices[i]=float(k)\n",
    "prices"
   ]
  },
  {
   "cell_type": "code",
   "execution_count": 31,
   "id": "2edd5899-dac1-42da-867b-25b98182762a",
   "metadata": {},
   "outputs": [
    {
     "name": "stdout",
     "output_type": "stream",
     "text": [
      "20\n",
      "['Lakshmi infratech India pvt ltd', 'Vishwa Ventures', 'Lakshmi infratech India pvt ltd', 'Vishwa Ventures', 'Lakshmi infratech India pvt ltd', 'Vishwa Ventures', 'seller', 'seller', 'seller', 'seller', 'seller', 'seller', 'seller', 'seller', 'seller', 'seller', 'Vaaraahi', 'RK PROPERTIES', 'Balakrishna J', 'Rudhvied Infra Projects']\n"
     ]
    }
   ],
   "source": [
    "x=a.find_all('a',{'class':'seller-name'})\n",
    "builder_name = [i.text for i in x]\n",
    "print(len(builder_name))\n",
    "print(builder_name)"
   ]
  },
  {
   "cell_type": "code",
   "execution_count": 32,
   "id": "e11b2c5c-5bc4-4cbd-9fbf-9a8926721458",
   "metadata": {},
   "outputs": [
    {
     "name": "stdout",
     "output_type": "stream",
     "text": [
      "20\n",
      "['Ready to move', 'Ready to move', 'Ready to move', 'Ready to move', 'Ready to move', 'Ready to move', 'Ready to move', 'Under Construction', 'Ready to move', 'Ready to move', 'Resale', 'Ready to move', 'Under Construction', 'Under Construction', 'Resale', 'Under Construction', 'New', 'New', 'Ready to move', 'New']\n"
     ]
    }
   ],
   "source": [
    "x=a.find_all('td',{'class':'val'})\n",
    "status = [i.text for i in x]\n",
    "print(len(status))\n",
    "print(status)"
   ]
  },
  {
   "cell_type": "code",
   "execution_count": 33,
   "id": "47b059bc-5f28-4d7e-bd85-73d31f1f9bc1",
   "metadata": {},
   "outputs": [
    {
     "name": "stdout",
     "output_type": "stream",
     "text": [
      "8\n",
      "['5 Bathrooms', '5 Bathrooms', '4 Bathrooms', '2 Bathrooms', '7 Bathrooms', '3 Bathrooms', '2 Bathrooms', '4 Bathrooms']\n"
     ]
    }
   ],
   "source": [
    "x=a.find_all('li',{'class':'keypoint','title':'Bathrooms'})\n",
    "br = [i.text for i in x]\n",
    "print(len(br))\n",
    "print(br)"
   ]
  },
  {
   "cell_type": "code",
   "execution_count": null,
   "id": "1db7a774-addb-475a-b307-671dc18dd1af",
   "metadata": {},
   "outputs": [],
   "source": []
  },
  {
   "cell_type": "code",
   "execution_count": 34,
   "id": "612165ac-dbb3-49b1-ae59-fc1db71b1371",
   "metadata": {},
   "outputs": [
    {
     "name": "stdout",
     "output_type": "stream",
     "text": [
      "3\n",
      "['East facing', 'East facing', 'East facing']\n"
     ]
    }
   ],
   "source": [
    "x=a.find_all('li',{'class':'keypoint','title':'facing'})\n",
    "face = [i.text for i in x]\n",
    "print(len(face))\n",
    "print(face)"
   ]
  },
  {
   "cell_type": "code",
   "execution_count": 35,
   "id": "6466c1e2-984c-44a9-90d1-1bac06cfad56",
   "metadata": {},
   "outputs": [
    {
     "name": "stdout",
     "output_type": "stream",
     "text": [
      "[0, 0, 0, 0, 0, 0, 5, 5, 4, 2, 0, 7, 3, 2, 0, 0, 0, 0, 4, 0]\n"
     ]
    }
   ],
   "source": [
    "import re\n",
    "#As we are having missing entries in both Bathrooms and facing we will\n",
    "#fill them using regex (regular expression)\n",
    "h=a.find_all('ul',{'class':'listing-details'})\n",
    "#details=[i.text for i in h]\n",
    "#print(details)\n",
    "#Two empty lists to store both Facing and Bathrooms details\n",
    "Bathrooms=[]\n",
    "Facing=[]\n",
    "for i in h:\n",
    "    i=i.text\n",
    "    bc=re.findall(r'(\\d+) Bathrooms',i)\n",
    "    if(bc):\n",
    "        Bathrooms.append(int(bc[0]))\n",
    "    else:\n",
    "        Bathrooms.append(0)\n",
    "print(Bathrooms)"
   ]
  },
  {
   "cell_type": "code",
   "execution_count": 36,
   "id": "9e104ad8-bcc9-47f7-874d-763d5a5649e0",
   "metadata": {},
   "outputs": [
    {
     "name": "stdout",
     "output_type": "stream",
     "text": [
      "['Unknown', 'Unknown', 'Unknown', 'Unknown', 'Unknown', 'Unknown', 'Unknown', 'Unknown', 'East', 'Unknown', 'Unknown', 'Unknown', 'Unknown', 'Unknown', 'Unknown', 'Unknown', 'Unknown', 'East', 'Unknown', 'East']\n"
     ]
    }
   ],
   "source": [
    "Facing.clear()\n",
    "for i in h:\n",
    "    i=i.text\n",
    "    face=re.findall(r'(East|West|North|South|NorthEast|NorthWest|SouthEast|SouthWest) facing',i)\n",
    "    if(face):\n",
    "        Facing.append(face[0])\n",
    "    else:\n",
    "        Facing.append('Unknown')\n",
    "        \n",
    "print(Facing)"
   ]
  },
  {
   "cell_type": "code",
   "execution_count": 37,
   "id": "eed0f1e5-ac5f-48f3-87a6-b2c6fdf10847",
   "metadata": {},
   "outputs": [],
   "source": [
    "property_types=['Apartment',\n",
    "'Builder Floor',\n",
    "'Villa',\n",
    "'Residential Plot',\n",
    "'Independent House',\n",
    "'Studio Apartment']"
   ]
  },
  {
   "cell_type": "code",
   "execution_count": 38,
   "id": "a842a845-52a3-4986-8b40-2fcc3ea37302",
   "metadata": {},
   "outputs": [
    {
     "data": {
      "text/plain": [
       "['Apartment',\n",
       " 'Apartment',\n",
       " 'Apartment',\n",
       " 'Apartment',\n",
       " 'Apartment',\n",
       " 'Apartment',\n",
       " 'Independent House',\n",
       " 'Independent House',\n",
       " 'Apartment',\n",
       " 'Apartment',\n",
       " 'Residential Plot',\n",
       " 'Independent House',\n",
       " 'Apartment',\n",
       " 'Villa',\n",
       " 'Residential Plot',\n",
       " 'Villa',\n",
       " 'Residential Plot',\n",
       " 'Residential Plot',\n",
       " 'Villa',\n",
       " 'Residential Plot']"
      ]
     },
     "execution_count": 38,
     "metadata": {},
     "output_type": "execute_result"
    }
   ],
   "source": [
    "pro_type=[]\n",
    "for i in names:\n",
    "    \n",
    "    for j in property_types:\n",
    "        if j in i:\n",
    "            pro_type.append(j)\n",
    "            break\n",
    "pro_type\n"
   ]
  },
  {
   "cell_type": "code",
   "execution_count": 39,
   "id": "733de6a0-7282-408a-b8a4-e90a7dd53f14",
   "metadata": {},
   "outputs": [
    {
     "name": "stdout",
     "output_type": "stream",
     "text": [
      "20\n",
      "20\n",
      "20\n",
      "20\n",
      "20\n",
      "20\n",
      "20\n",
      "20\n",
      "20\n"
     ]
    }
   ],
   "source": [
    "print(len(pro_type))\n",
    "print(len(areas))\n",
    "print(len(prices))\n",
    "print(len(Bathrooms))\n",
    "print(len(Facing))\n",
    "print(len(names))\n",
    "print(len(sqfs))\n",
    "print(len(status))\n",
    "print(len(builder_name))"
   ]
  },
  {
   "cell_type": "code",
   "execution_count": 40,
   "id": "12175e14-91f7-45c3-b336-34b3a225f019",
   "metadata": {},
   "outputs": [
    {
     "name": "stdout",
     "output_type": "stream",
     "text": [
      "Requirement already satisfied: pandas in c:\\users\\abc\\desktop\\aiworkshop\\teja\\lib\\site-packages (2.2.2)\n",
      "Requirement already satisfied: numpy>=1.26.0 in c:\\users\\abc\\desktop\\aiworkshop\\teja\\lib\\site-packages (from pandas) (2.1.0)\n",
      "Requirement already satisfied: python-dateutil>=2.8.2 in c:\\users\\abc\\desktop\\aiworkshop\\teja\\lib\\site-packages (from pandas) (2.9.0.post0)\n",
      "Requirement already satisfied: pytz>=2020.1 in c:\\users\\abc\\desktop\\aiworkshop\\teja\\lib\\site-packages (from pandas) (2024.1)\n",
      "Requirement already satisfied: tzdata>=2022.7 in c:\\users\\abc\\desktop\\aiworkshop\\teja\\lib\\site-packages (from pandas) (2024.1)\n",
      "Requirement already satisfied: six>=1.5 in c:\\users\\abc\\desktop\\aiworkshop\\teja\\lib\\site-packages (from python-dateutil>=2.8.2->pandas) (1.16.0)\n"
     ]
    },
    {
     "name": "stderr",
     "output_type": "stream",
     "text": [
      "\n",
      "[notice] A new release of pip is available: 24.1 -> 24.2\n",
      "[notice] To update, run: python.exe -m pip install --upgrade pip\n"
     ]
    }
   ],
   "source": [
    "#we will store the data in the tabular format --->pandas\n",
    "!pip install pandas"
   ]
  },
  {
   "cell_type": "code",
   "execution_count": 41,
   "id": "eb65408d-296f-40e2-a0aa-05427f85daf9",
   "metadata": {},
   "outputs": [],
   "source": [
    "import pandas as pd"
   ]
  },
  {
   "cell_type": "code",
   "execution_count": 47,
   "id": "dd9f32ad-abb4-4162-9e31-bac2312182e7",
   "metadata": {},
   "outputs": [],
   "source": [
    "#let us crate a table using pandas -->dataframe\n",
    "#we will use dictionaries here-->{'key':value'} --->Table\n",
    "data = pd.DataFrame({'Property_Names':names,\n",
    "'Property_type':pro_type,\n",
    "'Areas':areas,\n",
    "'Price in Lakhs':prices,\n",
    "'Bathrooms':Bathrooms,\n",
    "'Face':Facing,\n",
    "'Square Feet':sqfs,\n",
    "'Status':status,\n",
    "'Builder_Name':builder_name})\n",
    "#data"
   ]
  },
  {
   "cell_type": "code",
   "execution_count": 46,
   "id": "a028aa5f-7f59-4f89-b9a6-9dcd64b52ec5",
   "metadata": {},
   "outputs": [],
   "source": [
    "#Task is to get all entries from the multiple pages\n",
    "#first let us fetch multiple urls\n",
    "base_url = 'https://www.makaan.com/vijayawada-residential-property/buy-property-in-vijayawada-city?page='\n",
    "for i in range(1,52):\n",
    "    url=base_url + str(i)\n",
    "   # print(url)\n",
    "#clear_output -->IPython\n",
    "#time -->sleep()\n",
    "#Create a Dataframe with 1000 rows---> Day 1\n",
    "#saketh@codegnan.com\n",
    "#Subject Task-1\n",
    "#Mail body -->Your Name ,branch ,rollnumber"
   ]
  },
  {
   "cell_type": "code",
   "execution_count": 64,
   "id": "283d627c-5795-435c-93c9-9f26c5db7172",
   "metadata": {},
   "outputs": [],
   "source": [
    "a1=[]\n",
    "a2=[]\n",
    "a3=[]\n",
    "a4=[]\n",
    "a5=[]\n",
    "a6=[]\n",
    "a7=[]\n",
    "a8=[]\n",
    "a9=[]\n",
    "def fn(s):\n",
    "    b=requests.get(s)\n",
    "    a=BeautifulSoup(b.text)\n",
    "    g=a.find_all('div',{'class':'title-line'})\n",
    "    names = [i.text for i in g]\n",
    "    for i in names:\n",
    "        a1.append(i)\n",
    "    price=a.find_all('td',{'class':'price'})\n",
    "    prices=[i.text.strip() for i in price]\n",
    "    for i in range(len(prices)):\n",
    "        if prices[i].find('Cr')!=-1:\n",
    "            x=''\n",
    "            for j in prices[i]:\n",
    "                if j==' ':\n",
    "                    break\n",
    "                if j=='.':\n",
    "                    continue\n",
    "                else:\n",
    "                    x+=j\n",
    "            if(len(x)==2):\n",
    "                x+='0' \n",
    "            if(len(x)==1):\n",
    "                x+='00'\n",
    "            x+=' L'\n",
    "            prices[i]=x\n",
    "    for i in range(len(prices)):\n",
    "        k = prices[i].replace(\" L\",\"\")\n",
    "        prices[i]=float(k)\n",
    "    for i in prices:\n",
    "            a2.append(i)\n",
    "\n",
    "    area=a.find_all('span',{'itemprop':'addressLocality'})\n",
    "    areas=[i.text.strip() for i in area]\n",
    "    for i in areas:\n",
    "        a3.append(i)\n",
    "    sqf=a.find_all('td',{'class':'lbl rate'})\n",
    "    sqfs=[i.text.strip() for i in sqf]\n",
    "    for i in sqfs:\n",
    "        a4.append(i)\n",
    "    x=a.find_all('a',{'class':'seller-name'})\n",
    "    builder_name = [i.text for i in x]\n",
    "    for i in builder_name:\n",
    "        a5.append(i)\n",
    "    x=a.find_all('td',{'class':'val'})\n",
    "    status = [i.text for i in x]\n",
    "    for i in status:\n",
    "        a6.append(i)\n",
    "    h=a.find_all('ul',{'class':'listing-details'})\n",
    "    Bathrooms=[]\n",
    "    Facing=[]\n",
    "    for i in h:\n",
    "        i=i.text\n",
    "        bc=re.findall(r'(\\d+) Bathrooms',i)\n",
    "        if(bc):\n",
    "            Bathrooms.append(int(bc[0]))\n",
    "        else:\n",
    "            Bathrooms.append(0)\n",
    "    for i in h:\n",
    "        i=i.text\n",
    "        face=re.findall(r'(East|West|North|South|NorthEast|NorthWest|SouthEast|SouthWest) facing',i)\n",
    "        if(face):\n",
    "            Facing.append(face[0])\n",
    "        else:\n",
    "            Facing.append('Unknown')\n",
    "    for i in Bathrooms:\n",
    "        a7.append(i)\n",
    "    for i in Facing:\n",
    "        a8.append(i)\n",
    "    property_types=['Apartment',\n",
    "    'Builder Floor',\n",
    "    'Villa',\n",
    "    'Residential Plot',\n",
    "    'Independent House',\n",
    "    'Studio Apartment']\n",
    "    pro_type=[]\n",
    "    for i in names:\n",
    "        f=False\n",
    "        for j in property_types:\n",
    "            if j in i:\n",
    "                pro_type.append(j)\n",
    "                f=True\n",
    "                break\n",
    "        if f==False:\n",
    "            pro_type.append('unknown')\n",
    "    for i in pro_type:\n",
    "        a9.append(i)\n",
    "base_url = 'https://www.makaan.com/vijayawada-residential-property/buy-property-in-vijayawada-city?page='\n",
    "for i in range(1,52):\n",
    "    url=base_url + str(i)\n",
    "    fn(url)\n",
    " \n",
    "    \n",
    "    \n",
    "    \n",
    "    \n",
    "    \n",
    "    "
   ]
  },
  {
   "cell_type": "code",
   "execution_count": 68,
   "id": "628a65e1-6c6c-42f0-aa16-98cd2f0bfd6f",
   "metadata": {},
   "outputs": [
    {
     "data": {
      "text/html": [
       "<div>\n",
       "<style scoped>\n",
       "    .dataframe tbody tr th:only-of-type {\n",
       "        vertical-align: middle;\n",
       "    }\n",
       "\n",
       "    .dataframe tbody tr th {\n",
       "        vertical-align: top;\n",
       "    }\n",
       "\n",
       "    .dataframe thead th {\n",
       "        text-align: right;\n",
       "    }\n",
       "</style>\n",
       "<table border=\"1\" class=\"dataframe\">\n",
       "  <thead>\n",
       "    <tr style=\"text-align: right;\">\n",
       "      <th></th>\n",
       "      <th>Property_Names</th>\n",
       "      <th>Property_type</th>\n",
       "      <th>Areas</th>\n",
       "      <th>Price in Lakhs</th>\n",
       "      <th>Bathrooms</th>\n",
       "      <th>Face</th>\n",
       "      <th>Square Feet</th>\n",
       "      <th>Status</th>\n",
       "      <th>Builder_Name</th>\n",
       "    </tr>\n",
       "  </thead>\n",
       "  <tbody>\n",
       "    <tr>\n",
       "      <th>0</th>\n",
       "      <td>3 BHK Apartment in Lakshmi Serenity</td>\n",
       "      <td>Apartment</td>\n",
       "      <td>Penamaluru</td>\n",
       "      <td>108.00</td>\n",
       "      <td>0</td>\n",
       "      <td>Unknown</td>\n",
       "      <td>5,000 / sq ft</td>\n",
       "      <td>Ready to move</td>\n",
       "      <td>Lakshmi infratech India pvt ltd</td>\n",
       "    </tr>\n",
       "    <tr>\n",
       "      <th>1</th>\n",
       "      <td>2 BHK Apartment in Vishwa Ayodhya Gated Community</td>\n",
       "      <td>Apartment</td>\n",
       "      <td>Gannavaram</td>\n",
       "      <td>28.00</td>\n",
       "      <td>0</td>\n",
       "      <td>Unknown</td>\n",
       "      <td>2,500 / sq ft</td>\n",
       "      <td>Ready to move</td>\n",
       "      <td>Vishwa Ventures</td>\n",
       "    </tr>\n",
       "    <tr>\n",
       "      <th>2</th>\n",
       "      <td>3 BHK Apartment in Lakshmi Serenity</td>\n",
       "      <td>Apartment</td>\n",
       "      <td>Penamaluru</td>\n",
       "      <td>90.51</td>\n",
       "      <td>0</td>\n",
       "      <td>Unknown</td>\n",
       "      <td>4,499 / sq ft</td>\n",
       "      <td>Ready to move</td>\n",
       "      <td>Lakshmi infratech India pvt ltd</td>\n",
       "    </tr>\n",
       "    <tr>\n",
       "      <th>3</th>\n",
       "      <td>2 BHK Apartment in Vishwa Ayodhya Gated Community</td>\n",
       "      <td>Apartment</td>\n",
       "      <td>Gannavaram</td>\n",
       "      <td>28.00</td>\n",
       "      <td>0</td>\n",
       "      <td>Unknown</td>\n",
       "      <td>2,500 / sq ft</td>\n",
       "      <td>Ready to move</td>\n",
       "      <td>Vishwa Ventures</td>\n",
       "    </tr>\n",
       "    <tr>\n",
       "      <th>4</th>\n",
       "      <td>3 BHK Apartment in Lakshmi Serenity</td>\n",
       "      <td>Apartment</td>\n",
       "      <td>Penamaluru</td>\n",
       "      <td>100.00</td>\n",
       "      <td>0</td>\n",
       "      <td>Unknown</td>\n",
       "      <td>5,000 / sq ft</td>\n",
       "      <td>Ready to move</td>\n",
       "      <td>Lakshmi infratech India pvt ltd</td>\n",
       "    </tr>\n",
       "    <tr>\n",
       "      <th>...</th>\n",
       "      <td>...</td>\n",
       "      <td>...</td>\n",
       "      <td>...</td>\n",
       "      <td>...</td>\n",
       "      <td>...</td>\n",
       "      <td>...</td>\n",
       "      <td>...</td>\n",
       "      <td>...</td>\n",
       "      <td>...</td>\n",
       "    </tr>\n",
       "    <tr>\n",
       "      <th>1003</th>\n",
       "      <td>Residential Plot</td>\n",
       "      <td>Residential Plot</td>\n",
       "      <td>Auto Nagar</td>\n",
       "      <td>85.80</td>\n",
       "      <td>0</td>\n",
       "      <td>West</td>\n",
       "      <td>4,205 / sq ft</td>\n",
       "      <td>Resale</td>\n",
       "      <td>user1393</td>\n",
       "    </tr>\n",
       "    <tr>\n",
       "      <th>1004</th>\n",
       "      <td>Residential Plot</td>\n",
       "      <td>Residential Plot</td>\n",
       "      <td>Auto Nagar</td>\n",
       "      <td>85.80</td>\n",
       "      <td>0</td>\n",
       "      <td>West</td>\n",
       "      <td>4,205 / sq ft</td>\n",
       "      <td>Resale</td>\n",
       "      <td>user1393</td>\n",
       "    </tr>\n",
       "    <tr>\n",
       "      <th>1005</th>\n",
       "      <td>Residential Plot</td>\n",
       "      <td>Residential Plot</td>\n",
       "      <td>Auto Nagar</td>\n",
       "      <td>85.80</td>\n",
       "      <td>0</td>\n",
       "      <td>West</td>\n",
       "      <td>4,205 / sq ft</td>\n",
       "      <td>Resale</td>\n",
       "      <td>user1393</td>\n",
       "    </tr>\n",
       "    <tr>\n",
       "      <th>1006</th>\n",
       "      <td>Residential Plot in Kabela Centre</td>\n",
       "      <td>Residential Plot</td>\n",
       "      <td>Vidhyadharpuram</td>\n",
       "      <td>120.00</td>\n",
       "      <td>0</td>\n",
       "      <td>NorthWest</td>\n",
       "      <td>6,410 / sq ft</td>\n",
       "      <td>Resale</td>\n",
       "      <td>Krishna Kurapati</td>\n",
       "    </tr>\n",
       "    <tr>\n",
       "      <th>1007</th>\n",
       "      <td>Residential Plot in NMR RESORTS AND DEVELOPERS</td>\n",
       "      <td>Residential Plot</td>\n",
       "      <td>Pedaogirala</td>\n",
       "      <td>15.00</td>\n",
       "      <td>0</td>\n",
       "      <td>East</td>\n",
       "      <td>1,111 / sq ft</td>\n",
       "      <td>New</td>\n",
       "      <td>Manoj Kumar</td>\n",
       "    </tr>\n",
       "  </tbody>\n",
       "</table>\n",
       "<p>1008 rows × 9 columns</p>\n",
       "</div>"
      ],
      "text/plain": [
       "                                         Property_Names     Property_type  \\\n",
       "0                   3 BHK Apartment in Lakshmi Serenity         Apartment   \n",
       "1     2 BHK Apartment in Vishwa Ayodhya Gated Community         Apartment   \n",
       "2                   3 BHK Apartment in Lakshmi Serenity         Apartment   \n",
       "3     2 BHK Apartment in Vishwa Ayodhya Gated Community         Apartment   \n",
       "4                   3 BHK Apartment in Lakshmi Serenity         Apartment   \n",
       "...                                                 ...               ...   \n",
       "1003                                   Residential Plot  Residential Plot   \n",
       "1004                                   Residential Plot  Residential Plot   \n",
       "1005                                   Residential Plot  Residential Plot   \n",
       "1006                  Residential Plot in Kabela Centre  Residential Plot   \n",
       "1007     Residential Plot in NMR RESORTS AND DEVELOPERS  Residential Plot   \n",
       "\n",
       "                Areas  Price in Lakhs  Bathrooms       Face    Square Feet  \\\n",
       "0          Penamaluru          108.00          0    Unknown  5,000 / sq ft   \n",
       "1          Gannavaram           28.00          0    Unknown  2,500 / sq ft   \n",
       "2          Penamaluru           90.51          0    Unknown  4,499 / sq ft   \n",
       "3          Gannavaram           28.00          0    Unknown  2,500 / sq ft   \n",
       "4          Penamaluru          100.00          0    Unknown  5,000 / sq ft   \n",
       "...               ...             ...        ...        ...            ...   \n",
       "1003       Auto Nagar           85.80          0       West  4,205 / sq ft   \n",
       "1004       Auto Nagar           85.80          0       West  4,205 / sq ft   \n",
       "1005       Auto Nagar           85.80          0       West  4,205 / sq ft   \n",
       "1006  Vidhyadharpuram          120.00          0  NorthWest  6,410 / sq ft   \n",
       "1007      Pedaogirala           15.00          0       East  1,111 / sq ft   \n",
       "\n",
       "             Status                     Builder_Name  \n",
       "0     Ready to move  Lakshmi infratech India pvt ltd  \n",
       "1     Ready to move                  Vishwa Ventures  \n",
       "2     Ready to move  Lakshmi infratech India pvt ltd  \n",
       "3     Ready to move                  Vishwa Ventures  \n",
       "4     Ready to move  Lakshmi infratech India pvt ltd  \n",
       "...             ...                              ...  \n",
       "1003         Resale                         user1393  \n",
       "1004         Resale                         user1393  \n",
       "1005         Resale                         user1393  \n",
       "1006         Resale                 Krishna Kurapati  \n",
       "1007            New                      Manoj Kumar  \n",
       "\n",
       "[1008 rows x 9 columns]"
      ]
     },
     "execution_count": 68,
     "metadata": {},
     "output_type": "execute_result"
    }
   ],
   "source": [
    "data = pd.DataFrame({'Property_Names':a1,\n",
    "'Property_type':a9,\n",
    "'Areas':a3,\n",
    "'Price in Lakhs':a2,\n",
    "'Bathrooms':a7,\n",
    "'Face':a8,\n",
    "'Square Feet':a4,\n",
    "'Status':a6,\n",
    "'Builder_Name':a5})\n",
    "data"
   ]
  },
  {
   "cell_type": "code",
   "execution_count": null,
   "id": "e762d30a-8422-40b0-85d0-03c1cf3052b1",
   "metadata": {},
   "outputs": [],
   "source": []
  }
 ],
 "metadata": {
  "kernelspec": {
   "display_name": "Python 3 (ipykernel)",
   "language": "python",
   "name": "python3"
  },
  "language_info": {
   "codemirror_mode": {
    "name": "ipython",
    "version": 3
   },
   "file_extension": ".py",
   "mimetype": "text/x-python",
   "name": "python",
   "nbconvert_exporter": "python",
   "pygments_lexer": "ipython3",
   "version": "3.12.5"
  }
 },
 "nbformat": 4,
 "nbformat_minor": 5
}
